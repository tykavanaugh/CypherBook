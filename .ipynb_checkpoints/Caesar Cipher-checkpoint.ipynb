{
 "cells": [
  {
   "cell_type": "code",
   "execution_count": 46,
   "metadata": {},
   "outputs": [
    {
     "data": {
      "text/plain": [
       "\"This is a basic function to implement'decoder ring' or ancient Caesar cypher\""
      ]
     },
     "execution_count": 46,
     "metadata": {},
     "output_type": "execute_result"
    }
   ],
   "source": [
    "\"\"\"This is a basic function to implement'decoder ring' or ancient Caesar cypher\"\"\"\n",
    "\"\"\"First is my own the second is based upon the books method\"\"\""
   ]
  },
  {
   "cell_type": "code",
   "execution_count": 47,
   "metadata": {
    "collapsed": true
   },
   "outputs": [],
   "source": [
    "import random"
   ]
  },
  {
   "cell_type": "code",
   "execution_count": 64,
   "metadata": {
    "collapsed": true
   },
   "outputs": [],
   "source": [
    "def shift(character,shiftNum):\n",
    "    '''This is the docstring'''\n",
    "    character = character.upper()\n",
    "    charValue = ord(character)\n",
    "    newValue = charValue + shiftNum\n",
    "    if charValue == 32:\n",
    "        return ' '\n",
    "    if charValue == 58:\n",
    "        return ':'\n",
    "    while newValue > 90:\n",
    "        newValue = newValue - 26\n",
    "    while newValue < 65:\n",
    "        newValue = newValue + 26    \n",
    "    out = chr(newValue)\n",
    "    return out"
   ]
  },
  {
   "cell_type": "code",
   "execution_count": 49,
   "metadata": {
    "collapsed": true
   },
   "outputs": [],
   "source": [
    "def caesarCypher(text,num):\n",
    "    outString = ''\n",
    "    for char in text:\n",
    "        outString += shift(char,num)\n",
    "    return outString"
   ]
  },
  {
   "cell_type": "code",
   "execution_count": 50,
   "metadata": {
    "collapsed": true
   },
   "outputs": [],
   "source": [
    "def encode(text):\n",
    "    key = random.randint(1,26)\n",
    "    coded = caesarCypher(text,key)\n",
    "    print(key)\n",
    "    print(coded)"
   ]
  },
  {
   "cell_type": "code",
   "execution_count": 51,
   "metadata": {
    "collapsed": true
   },
   "outputs": [],
   "source": [
    "def bruteForce(text):\n",
    "    for i in range(0,26):\n",
    "        print(caesarCypher(text,i))\n",
    "        print('\\n')"
   ]
  },
  {
   "cell_type": "code",
   "execution_count": 58,
   "metadata": {},
   "outputs": [
    {
     "data": {
      "text/plain": [
       "'DHKDZOT: TJPM DMMZQZMZIXZ OJRVMY HT YZDOT'"
      ]
     },
     "execution_count": 58,
     "metadata": {},
     "output_type": "execute_result"
    }
   ],
   "source": [
    "a = 'AMBIDEXTROUS: Able to pick with equal skill a right-hand pocket or a left'\n",
    "b = 'GUILLOTINE: A machine which makes a Frenchman shrug his shoulders with good reason'\n",
    "c = 'IMPIETY: Your irreverence toward my deity'"
   ]
  },
  {
   "cell_type": "code",
   "execution_count": 55,
   "metadata": {},
   "outputs": [],
   "source": [
    "SYMBOLS = '''ABCDEFGHIJKLMNOPQRSTUVWXYZabcdefghijklmnopqrstuvwxyz ,./;'[]\\<>?:\"{}|`1234567890-=~!@#$%^&*()_+\"'''"
   ]
  },
  {
   "cell_type": "code",
   "execution_count": 56,
   "metadata": {
    "collapsed": true
   },
   "outputs": [],
   "source": [
    "import pyperclip"
   ]
  },
  {
   "cell_type": "code",
   "execution_count": 58,
   "metadata": {},
   "outputs": [],
   "source": [
    "def bookVersion(text,key,encode=True):\n",
    "    '''Takes a string and key, and if encode is True will encode and if encode if False will decode according to key'''\n",
    "    global SYMBOLS\n",
    "    translated = ''\n",
    "    for char in text:\n",
    "        if char in SYMBOLS:\n",
    "            sIndex = SYMBOLS.find(char)\n",
    "            if encode == True:\n",
    "                tIndex = sIndex + key\n",
    "            if encode == False:\n",
    "                tIndex = sIndex - key\n",
    "            while tIndex >= len(SYMBOLS):\n",
    "                tIndex -= len(SYMBOLS)\n",
    "            while tIndex < 0:\n",
    "                tIndex += len(SYMBOLS)\n",
    "            translated += SYMBOLS[tIndex]\n",
    "        else:\n",
    "            translated += char\n",
    "    return(translated)\n",
    "    pyperclip.copy(translated)"
   ]
  },
  {
   "cell_type": "code",
   "execution_count": 62,
   "metadata": {},
   "outputs": [],
   "source": [
    "sCoded = book(s,5,encode=True)"
   ]
  },
  {
   "cell_type": "code",
   "execution_count": 63,
   "metadata": {},
   "outputs": [
    {
     "data": {
      "text/plain": [
       "\"Ymj'vznhp'gwt,s'kt.'ozruji't jw'ymj'qf;/'itl\""
      ]
     },
     "execution_count": 63,
     "metadata": {},
     "output_type": "execute_result"
    }
   ],
   "source": [
    "sCoded"
   ]
  },
  {
   "cell_type": "code",
   "execution_count": 69,
   "metadata": {},
   "outputs": [],
   "source": [
    "def bruteForceGuided(text):\n",
    "    l = []\n",
    "    global SYMBOLS\n",
    "    print('More likely translations:\\n')\n",
    "    for i in range(0,len(SYMBOLS)):\n",
    "        translated = bookVersion(text,i,encode=False)\n",
    "        if (('the' in translated) or ('The' in translated) or ('and' in translated) or ('And' in translated)):\n",
    "            print(translated + '\\n')\n",
    "    print('\\n\\n\\n\\nAll possible combinations:\\n')\n",
    "    for i in range(0,len(SYMBOLS)):\n",
    "        translated = bookVersion(text,i,encode=False)\n",
    "        print(translated + '\\n')"
   ]
  },
  {
   "cell_type": "code",
   "execution_count": 70,
   "metadata": {},
   "outputs": [
    {
     "name": "stdout",
     "output_type": "stream",
     "text": [
      "More likely translations:\n",
      "\n",
      "The quick brown fox jumped over the lazy dog\n",
      "\n",
      "\n",
      "\n",
      "\n",
      "\n",
      "All possible combinations:\n",
      "\n",
      "Ymj'vznhp'gwt,s'kt.'ozruji't jw'ymj'qf;/'itl\n",
      "\n",
      "Xli;uymgo;fvs r;js,;nyqtih;sziv;xli;pe/.;hsk\n",
      "\n",
      "Wkh/txlfn/eurzq/ir /mxpshg/ryhu/wkh/od.,/grj\n",
      "\n",
      "Vjg.swkem.dtqyp.hqz.lworgf.qxgt.vjg.nc, .fqi\n",
      "\n",
      "Uif,rvjdl,cspxo,gpy,kvnqfe,pwfs,uif,mb z,eph\n",
      "\n",
      "The quick brown fox jumped over the lazy dog\n",
      "\n",
      "SgdzpthbjzaqnvmzenwzitlodcznudqzsgdzkZyxzcnf\n",
      "\n",
      "RfcyosgaiyZpmulydmvyhskncbymtcpyrfcyjYxwybme\n",
      "\n",
      "QebxnrfZhxYoltkxcluxgrjmbaxlsboxqebxiXwvxald\n",
      "\n",
      "PdawmqeYgwXnksjwbktwfqilaZwkranwpdawhWvuwZkc\n",
      "\n",
      "OcZvlpdXfvWmjrivajsvephkZYvjqZmvocZvgVutvYjb\n",
      "\n",
      "NbYukocWeuVliqhuZirudogjYXuipYlunbYufUtsuXia\n",
      "\n",
      "MaXtjnbVdtUkhpgtYhqtcnfiXWthoXktmaXteTsrtWhZ\n",
      "\n",
      "LZWsimaUcsTjgofsXgpsbmehWVsgnWjslZWsdSrqsVgY\n",
      "\n",
      "KYVrhlZTbrSifnerWforaldgVUrfmVirkYVrcRqprUfX\n",
      "\n",
      "JXUqgkYSaqRhemdqVenqZkcfUTqelUhqjXUqbQpoqTeW\n",
      "\n",
      "IWTpfjXRZpQgdlcpUdmpYjbeTSpdkTgpiWTpaPonpSdV\n",
      "\n",
      "HVSoeiWQYoPfckboTcloXiadSRocjSfohVSoZOnmoRcU\n",
      "\n",
      "GURndhVPXnOebjanSbknWhZcRQnbiRengURnYNmlnQbT\n",
      "\n",
      "FTQmcgUOWmNdaiZmRajmVgYbQPmahQdmfTQmXMlkmPaS\n",
      "\n",
      "ESPlbfTNVlMcZhYlQZilUfXaPOlZgPcleSPlWLkjlOZR\n",
      "\n",
      "DROkaeSMUkLbYgXkPYhkTeWZONkYfObkdROkVKjikNYQ\n",
      "\n",
      "CQNjZdRLTjKaXfWjOXgjSdVYNMjXeNajcQNjUJihjMXP\n",
      "\n",
      "BPMiYcQKSiJZWeViNWfiRcUXMLiWdMZibPMiTIhgiLWO\n",
      "\n",
      "AOLhXbPJRhIYVdUhMVehQbTWLKhVcLYhaOLhSHgfhKVN\n",
      "\n",
      "\"NKgWaOIQgHXUcTgLUdgPaSVKJgUbKXgZNKgRGfegJUM\n",
      "\n",
      "+MJfVZNHPfGWTbSfKTcfOZRUJIfTaJWfYMJfQFedfITL\n",
      "\n",
      "_LIeUYMGOeFVSaReJSbeNYQTIHeSZIVeXLIePEdceHSK\n",
      "\n",
      ")KHdTXLFNdEURZQdIRadMXPSHGdRYHUdWKHdODcbdGRJ\n",
      "\n",
      "(JGcSWKEMcDTQYPcHQZcLWORGFcQXGTcVJGcNCbacFQI\n",
      "\n",
      "*IFbRVJDLbCSPXObGPYbKVNQFEbPWFSbUIFbMBaZbEPH\n",
      "\n",
      "&HEaQUICKaBROWNaFOXaJUMPEDaOVERaTHEaLAZYaDOG\n",
      "\n",
      "^GDZPTHBJZAQNVMZENWZITLODCZNUDQZSGDZK\"YXZCNF\n",
      "\n",
      "%FCYOSGAIY\"PMULYDMVYHSKNCBYMTCPYRFCYJ+XWYBME\n",
      "\n",
      "$EBXNRF\"HX+OLTKXCLUXGRJMBAXLSBOXQEBXI_WVXALD\n",
      "\n",
      "#DAWMQE+GW_NKSJWBKTWFQILA\"WKRANWPDAWH)VUW\"KC\n",
      "\n",
      "@C\"VLPD_FV)MJRIVAJSVEPHK\"+VJQ\"MVOC\"VG(UTV+JB\n",
      "\n",
      "!B+UKOC)EU(LIQHU\"IRUDOGJ+_UIP+LUNB+UF*TSU_IA\n",
      "\n",
      "~A_TJNB(DT*KHPGT+HQTCNFI_)THO_KTMA_TE&SRT)H\"\n",
      "\n",
      "=\")SIMA*CS&JGOFS_GPSBMEH)(SGN)JSL\")SD^RQS(G+\n",
      "\n",
      "-+(RHL\"&BR^IFNER)FORALDG(*RFM(IRK+(RC%QPR*F_\n",
      "\n",
      "0_*QGK+^AQ%HEMDQ(ENQ\"KCF*&QEL*HQJ_*QB$POQ&E)\n",
      "\n",
      "9)&PFJ_%\"P$GDLCP*DMP+JBE&^PDK&GPI)&PA#ONP^D(\n",
      "\n",
      "8(^OEI)$+O#FCKBO&CLO_IAD^%OCJ^FOH(^O\"@NMO%C*\n",
      "\n",
      "7*%NDH(#_N@EBJAN^BKN)H\"C%$NBI%ENG*%N+!MLN$B&\n",
      "\n",
      "6&$MCG*@)M!DAI\"M%AJM(G+B$#MAH$DMF&$M_~LKM#A^\n",
      "\n",
      "5^#LBF&!(L~C\"H+L$\"IL*F_A#@L\"G#CLE^#L)=KJL@\"%\n",
      "\n",
      "4%@KAE^~*K=B+G_K#+HK&E)\"@!K+F@BKD%@K(-JIK!+$\n",
      "\n",
      "3$!J\"D%=&J-A_F)J@_GJ^D(+!~J_E!AJC$!J*0IHJ~_#\n",
      "\n",
      "2#~I+C$-^I0\")E(I!)FI%C*_~=I)D~\"IB#~I&9HGI=)@\n",
      "\n",
      "1@=H_B#0%H9+(D*H~(EH$B&)=-H(C=+HA@=H^8GFH-(!\n",
      "\n",
      "`!-G)A@9$G8_*C&G=*DG#A^(-0G*B-_G\"!-G%7FEG0*~\n",
      "\n",
      "|~0F(\"!8#F7)&B^F-&CF@\"%*09F&A0)F+~0F$6EDF9&=\n",
      "\n",
      "}=9E*+~7@E6(^A%E0^BE!+$&98E^\"9(E_=9E#5DCE8^-\n",
      "\n",
      "{-8D&_=6!D5*%\"$D9%AD~_#^87D%+8*D)-8D@4CBD7%0\n",
      "\n",
      "\"07C^)-5~C4&$+#C8$\"C=)@%76C$_7&C(07C!3BAC6$9\n",
      "\n",
      ":96B%(04=B3^#_@B7#+B-(!$65B#)6^B*96B~2A\"B5#8\n",
      "\n",
      "?85A$*93-A2%@)!A6@_A0*~#54A@(5%A&85A=1\"+A4@7\n",
      "\n",
      ">74\"#&820\"1$!(~\"5!)\"9&=@43\"!*4$\"^74\"-`+_\"3!6\n",
      "\n",
      "<63+@^719+`#~*=+4~(+8^-!32+~&3#+%63+0|_)+2~5\n",
      "\n",
      "\\52_!%6`8_|@=&-_3=*_7%0~21_=^2@_$52_9})(_1=4\n",
      "\n",
      "]41)~$5|7)}!-^0)2-&)6$9=1`)-%1!)#41)8{(*)`-3\n",
      "\n",
      "[3`(=#4}6({~0%9(10^(5#8-`|(0$`~(@3`(7\"*&(|02\n",
      "\n",
      "'2|*-@3{5*\"=9$8*`9%*4@70|}*9#|=*!2|*6:&^*}91\n",
      "\n",
      ";1}&0!2\"4&:-8#7&|8$&3!69}{&8@}-&~1}&5?^%&{8`\n",
      "\n",
      "/`{^9~1:3^?07@6^}7#^2~58{\"^7!{0^=`{^4>%$^\"7|\n",
      "\n",
      ".|\"%8=`?2%>96!5%{6@%1=47\":%6~\"9%-|\"%3<$#%:6}\n",
      "\n",
      ",}:$7-|>1$<85~4$\"5!$`-36:?$5=:8$0}:$2\\#@$?5{\n",
      "\n",
      " {?#60}<`#\\74=3#:4~#|025?>#4-?7#9{?#1]@!#>4\"\n",
      "\n",
      "z\">@59{\\|@]63-2@?3=@}914><@30>6@8\">@`[!~@<3:\n",
      "\n",
      "y:<!48\"]}![5201!>2-!{8`3<\\!29<5!7:<!|'~=!\\2?\n",
      "\n",
      "x?\\~37:[{~'419`~<10~\"7|2\\]~18\\4~6?\\~};=-~]1>\n",
      "\n",
      "w>]=26?'\"=;3`8|=\\`9=:6}1][=`7]3=5>]={/-0=[`<\n",
      "\n",
      "v<[-15>;:-/2|7}-]|8-?5{`['-|6[2-4<[-\".09-'|\\\n",
      "\n",
      "u\\'0`4</?0.1}6{0[}70>4\"|';0}5'103\\'0:,980;}]\n",
      "\n",
      "t];9|3\\.>9,`{5\"9'{69<3:};/9{4;`92];9? 879/{[\n",
      "\n",
      "s[/8}2],<8 |\"4:8;\"58\\2?{/.8\"3/|81[/8>z768.\"'\n",
      "\n",
      "r'.7{1[ \\7z}:3?7/:47]1>\".,7:2.}7`'.7<y657,:;\n",
      "\n",
      "q;,6\"`'z]6y{?2>6.?36[`<:, 6?1,{6|;,6\\x546 ?/\n",
      "\n",
      "p/ 5:|;y[5x\">1<5,>25'|\\? z5>` \"5}/ 5]w435z>.\n",
      "\n",
      "o.z4?}/x'4w:<`\\4 <14;}]>zy4<|z:4{.z4[v324y<,\n",
      "\n",
      "n,y3>{.w;3v?\\|]3z\\`3/{[<yx3\\}y?3\",y3'u213x\\ \n",
      "\n",
      "m x2<\",v/2u>]}[2y]|2.\"'\\xw2]{x>2: x2;t1`2w]z\n",
      "\n",
      "lzw1\\: u.1t<[{'1x[}1,:;]wv1[\"w<1?zw1/s`|1v[y\n",
      "\n",
      "kyv`]?zt,`s\\'\";`w'{` ?/[vu`':v\\`>yv`.r|}`u'x\n",
      "\n",
      "jxu|[>ys |r];:/|v;\"|z>.'ut|;?u]|<xu|,q}{|t;w\n",
      "\n",
      "iwt}'<xrz}q[/?.}u/:}y<,;ts}/>t[}\\wt} p{\"}s/v\n",
      "\n",
      "hvs{;\\wqy{p'.>,{t.?{x\\ /sr{.<s'{]vs{zo\":{r.u\n",
      "\n",
      "gur\"/]vpx\"o;,< \"s,>\"w]z.rq\",\\r;\"[ur\"yn:?\"q,t\n",
      "\n",
      "ftq:.[uow:n/ \\z:r <:v[y,qp: ]q/:'tq:xm?>:p s\n",
      "\n",
      "esp?,'tnv?m.z]y?qz\\?u'x po?z[p.?;sp?wl><?ozr\n",
      "\n",
      "dro> ;smu>l,y[x>py]>t;wzon>y'o,>/ro>vk<\\>nyq\n",
      "\n",
      "cqn<z/rlt<k x'w<ox[<s/vynm<x;n <.qn<uj\\]<mxp\n",
      "\n",
      "bpm\\y.qks\\jzw;v\\nw'\\r.uxml\\w/mz\\,pm\\ti][\\lwo\n",
      "\n",
      "aol]x,pjr]iyv/u]mv;]q,twlk]v.ly] ol]sh[']kvn\n",
      "\n",
      "Znk[w oiq[hxu.t[lu/[p svkj[u,kx[znk[rg';[jum\n",
      "\n"
     ]
    }
   ],
   "source": [
    "bruteForceGuided(sCoded)"
   ]
  },
  {
   "cell_type": "code",
   "execution_count": null,
   "metadata": {
    "collapsed": true
   },
   "outputs": [],
   "source": []
  }
 ],
 "metadata": {
  "kernelspec": {
   "display_name": "Python 3",
   "language": "python",
   "name": "python3"
  },
  "language_info": {
   "codemirror_mode": {
    "name": "ipython",
    "version": 3
   },
   "file_extension": ".py",
   "mimetype": "text/x-python",
   "name": "python",
   "nbconvert_exporter": "python",
   "pygments_lexer": "ipython3",
   "version": "3.6.7"
  }
 },
 "nbformat": 4,
 "nbformat_minor": 2
}
