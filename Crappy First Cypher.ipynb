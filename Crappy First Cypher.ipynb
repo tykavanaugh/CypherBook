{
 "cells": [
  {
   "cell_type": "code",
   "execution_count": null,
   "metadata": {
    "collapsed": true
   },
   "outputs": [],
   "source": [
    "\"\"\"This is a basic function to implement'decoder ring' or ancient Caesar cypher\"\"\""
   ]
  },
  {
   "cell_type": "code",
   "execution_count": 70,
   "metadata": {
    "collapsed": true
   },
   "outputs": [],
   "source": [
    "import random"
   ]
  },
  {
   "cell_type": "code",
   "execution_count": 58,
   "metadata": {
    "collapsed": true
   },
   "outputs": [],
   "source": [
    "def shift(character,shiftNum):\n",
    "    character = character.upper()\n",
    "    charValue = ord(character)\n",
    "    newValue = charValue + shiftNum\n",
    "    if charValue == 32:\n",
    "        return ' '\n",
    "    while newValue > 90:\n",
    "        newValue = newValue - 26\n",
    "    while newValue < 65:\n",
    "        newValue = newValue + 26    \n",
    "    out = chr(newValue)\n",
    "    return out"
   ]
  },
  {
   "cell_type": "code",
   "execution_count": 62,
   "metadata": {
    "collapsed": true
   },
   "outputs": [],
   "source": [
    "def caesarCypher(text,num):\n",
    "    outString = ''\n",
    "    for char in text:\n",
    "        outString += shift(char,num)\n",
    "    return outString"
   ]
  },
  {
   "cell_type": "code",
   "execution_count": 72,
   "metadata": {
    "collapsed": true
   },
   "outputs": [],
   "source": [
    "def encode(text):\n",
    "    key = random.randint(1,26)\n",
    "    coded = caesarCypher(text,key)\n",
    "    print(key)\n",
    "    print(coded)"
   ]
  },
  {
   "cell_type": "code",
   "execution_count": 83,
   "metadata": {
    "collapsed": true
   },
   "outputs": [],
   "source": [
    "def bruteForce(text):\n",
    "    for i in range(0,26):\n",
    "        print(caesarCypher(text,i))"
   ]
  },
  {
   "cell_type": "code",
   "execution_count": 84,
   "metadata": {},
   "outputs": [
    {
     "name": "stdout",
     "output_type": "stream",
     "text": [
      "UIF RVJDL CSPXO GPY KVNQFE PWFS UIF MBAZ EPH\n",
      "VJG SWKEM DTQYP HQZ LWORGF QXGT VJG NCBA FQI\n",
      "WKH TXLFN EURZQ IRA MXPSHG RYHU WKH ODCB GRJ\n",
      "XLI UYMGO FVSAR JSB NYQTIH SZIV XLI PEDC HSK\n",
      "YMJ VZNHP GWTBS KTC OZRUJI TAJW YMJ QFED ITL\n",
      "ZNK WAOIQ HXUCT LUD PASVKJ UBKX ZNK RGFE JUM\n",
      "AOL XBPJR IYVDU MVE QBTWLK VCLY AOL SHGF KVN\n",
      "BPM YCQKS JZWEV NWF RCUXML WDMZ BPM TIHG LWO\n",
      "CQN ZDRLT KAXFW OXG SDVYNM XENA CQN UJIH MXP\n",
      "DRO AESMU LBYGX PYH TEWZON YFOB DRO VKJI NYQ\n",
      "ESP BFTNV MCZHY QZI UFXAPO ZGPC ESP WLKJ OZR\n",
      "FTQ CGUOW NDAIZ RAJ VGYBQP AHQD FTQ XMLK PAS\n",
      "GUR DHVPX OEBJA SBK WHZCRQ BIRE GUR YNML QBT\n",
      "HVS EIWQY PFCKB TCL XIADSR CJSF HVS ZONM RCU\n",
      "IWT FJXRZ QGDLC UDM YJBETS DKTG IWT APON SDV\n",
      "JXU GKYSA RHEMD VEN ZKCFUT ELUH JXU BQPO TEW\n",
      "KYV HLZTB SIFNE WFO ALDGVU FMVI KYV CRQP UFX\n",
      "LZW IMAUC TJGOF XGP BMEHWV GNWJ LZW DSRQ VGY\n",
      "MAX JNBVD UKHPG YHQ CNFIXW HOXK MAX ETSR WHZ\n",
      "NBY KOCWE VLIQH ZIR DOGJYX IPYL NBY FUTS XIA\n",
      "OCZ LPDXF WMJRI AJS EPHKZY JQZM OCZ GVUT YJB\n",
      "PDA MQEYG XNKSJ BKT FQILAZ KRAN PDA HWVU ZKC\n",
      "QEB NRFZH YOLTK CLU GRJMBA LSBO QEB IXWV ALD\n",
      "RFC OSGAI ZPMUL DMV HSKNCB MTCP RFC JYXW BME\n",
      "SGD PTHBJ AQNVM ENW ITLODC NUDQ SGD KZYX CNF\n",
      "THE QUICK BROWN FOX JUMPED OVER THE LAZY DOG\n"
     ]
    }
   ],
   "source": [
    "bruteForce('UIF RVJDL CSPXO GPY KVNQFE PWFS UIF MBAZ EPH')"
   ]
  },
  {
   "cell_type": "code",
   "execution_count": 63,
   "metadata": {
    "collapsed": true
   },
   "outputs": [],
   "source": [
    "s = 'The quick brown fox jumped over the lazy dog'"
   ]
  },
  {
   "cell_type": "code",
   "execution_count": 66,
   "metadata": {},
   "outputs": [
    {
     "data": {
      "text/plain": [
       "'UIF RVJDL CSPXO GPY KVNQFE PWFS UIF MBAZ EPH'"
      ]
     },
     "execution_count": 66,
     "metadata": {},
     "output_type": "execute_result"
    }
   ],
   "source": [
    "s1 = caesarCypher(s,1)\n",
    "s1"
   ]
  },
  {
   "cell_type": "code",
   "execution_count": 67,
   "metadata": {},
   "outputs": [
    {
     "data": {
      "text/plain": [
       "'THE QUICK BROWN FOX JUMPED OVER THE LAZY DOG'"
      ]
     },
     "execution_count": 67,
     "metadata": {},
     "output_type": "execute_result"
    }
   ],
   "source": [
    "caesarCypher(s1,-1)"
   ]
  },
  {
   "cell_type": "code",
   "execution_count": 68,
   "metadata": {},
   "outputs": [
    {
     "data": {
      "text/plain": [
       "'PDA MQEYG XNKSJ BKT FQILAZ KRAN PDA HWVU ZKC'"
      ]
     },
     "execution_count": 68,
     "metadata": {},
     "output_type": "execute_result"
    }
   ],
   "source": [
    "s1 = caesarCypher(s,100)\n",
    "s1"
   ]
  },
  {
   "cell_type": "code",
   "execution_count": 69,
   "metadata": {},
   "outputs": [
    {
     "data": {
      "text/plain": [
       "'THE QUICK BROWN FOX JUMPED OVER THE LAZY DOG'"
      ]
     },
     "execution_count": 69,
     "metadata": {},
     "output_type": "execute_result"
    }
   ],
   "source": [
    "caesarCypher(s1,-100)\n"
   ]
  },
  {
   "cell_type": "code",
   "execution_count": 88,
   "metadata": {},
   "outputs": [
    {
     "data": {
      "text/plain": [
       "'DHKDZOTO TJPM DMMZQZMZIXZ OJRVMY HT YZDOT'"
      ]
     },
     "execution_count": 88,
     "metadata": {},
     "output_type": "execute_result"
    }
   ],
   "source": [
    "a = 'AMBIDEXTROUS: Able to pick with equal skill a right-hand pocket or a left'\n",
    "b = 'GUILLOTINE: A machine which makes a Frenchman shrug his shoulders with good reason'\n",
    "c = 'IMPIETY: Your irreverence toward my deity'\n",
    "a2 = 'ZXAI: P RDHIJBT HDBTIXBTH LDGC QN HRDIRWBTC XC PBTGXRP PCS PBTGXRPCH XC HRDIAPCS'\n",
    "caesarCypher(a,4)\n",
    "caesarCypher(b,17)\n",
    "caesarCypher(c,21)"
   ]
  },
  {
   "cell_type": "code",
   "execution_count": 90,
   "metadata": {},
   "outputs": [
    {
     "name": "stdout",
     "output_type": "stream",
     "text": [
      "ZXAIT P RDHIJBT HDBTIXBTH LDGC QN HRDIRWBTC XC PBTGXRP PCS PBTGXRPCH XC HRDIAPCS\n",
      "AYBJU Q SEIJKCU IECUJYCUI MEHD RO ISEJSXCUD YD QCUHYSQ QDT QCUHYSQDI YD ISEJBQDT\n",
      "BZCKV R TFJKLDV JFDVKZDVJ NFIE SP JTFKTYDVE ZE RDVIZTR REU RDVIZTREJ ZE JTFKCREU\n",
      "CADLW S UGKLMEW KGEWLAEWK OGJF TQ KUGLUZEWF AF SEWJAUS SFV SEWJAUSFK AF KUGLDSFV\n",
      "DBEMX T VHLMNFX LHFXMBFXL PHKG UR LVHMVAFXG BG TFXKBVT TGW TFXKBVTGL BG LVHMETGW\n",
      "ECFNY U WIMNOGY MIGYNCGYM QILH VS MWINWBGYH CH UGYLCWU UHX UGYLCWUHM CH MWINFUHX\n",
      "FDGOZ V XJNOPHZ NJHZODHZN RJMI WT NXJOXCHZI DI VHZMDXV VIY VHZMDXVIN DI NXJOGVIY\n",
      "GEHPA W YKOPQIA OKIAPEIAO SKNJ XU OYKPYDIAJ EJ WIANEYW WJZ WIANEYWJO EJ OYKPHWJZ\n",
      "HFIQB X ZLPQRJB PLJBQFJBP TLOK YV PZLQZEJBK FK XJBOFZX XKA XJBOFZXKP FK PZLQIXKA\n",
      "IGJRC Y AMQRSKC QMKCRGKCQ UMPL ZW QAMRAFKCL GL YKCPGAY YLB YKCPGAYLQ GL QAMRJYLB\n",
      "JHKSD Z BNRSTLD RNLDSHLDR VNQM AX RBNSBGLDM HM ZLDQHBZ ZMC ZLDQHBZMR HM RBNSKZMC\n",
      "KILTE A COSTUME SOMETIMES WORN BY SCOTCHMEN IN AMERICA AND AMERICANS IN SCOTLAND\n",
      "LJMUF B DPTUVNF TPNFUJNFT XPSO CZ TDPUDINFO JO BNFSJDB BOE BNFSJDBOT JO TDPUMBOE\n",
      "MKNVG C EQUVWOG UQOGVKOGU YQTP DA UEQVEJOGP KP COGTKEC CPF COGTKECPU KP UEQVNCPF\n",
      "NLOWH D FRVWXPH VRPHWLPHV ZRUQ EB VFRWFKPHQ LQ DPHULFD DQG DPHULFDQV LQ VFRWODQG\n",
      "OMPXI E GSWXYQI WSQIXMQIW ASVR FC WGSXGLQIR MR EQIVMGE ERH EQIVMGERW MR WGSXPERH\n",
      "PNQYJ F HTXYZRJ XTRJYNRJX BTWS GD XHTYHMRJS NS FRJWNHF FSI FRJWNHFSX NS XHTYQFSI\n",
      "QORZK G IUYZASK YUSKZOSKY CUXT HE YIUZINSKT OT GSKXOIG GTJ GSKXOIGTY OT YIUZRGTJ\n",
      "RPSAL H JVZABTL ZVTLAPTLZ DVYU IF ZJVAJOTLU PU HTLYPJH HUK HTLYPJHUZ PU ZJVASHUK\n",
      "SQTBM I KWABCUM AWUMBQUMA EWZV JG AKWBKPUMV QV IUMZQKI IVL IUMZQKIVA QV AKWBTIVL\n",
      "TRUCN J LXBCDVN BXVNCRVNB FXAW KH BLXCLQVNW RW JVNARLJ JWM JVNARLJWB RW BLXCUJWM\n",
      "USVDO K MYCDEWO CYWODSWOC GYBX LI CMYDMRWOX SX KWOBSMK KXN KWOBSMKXC SX CMYDVKXN\n",
      "VTWEP L NZDEFXP DZXPETXPD HZCY MJ DNZENSXPY TY LXPCTNL LYO LXPCTNLYD TY DNZEWLYO\n",
      "WUXFQ M OAEFGYQ EAYQFUYQE IADZ NK EOAFOTYQZ UZ MYQDUOM MZP MYQDUOMZE UZ EOAFXMZP\n",
      "XVYGR N PBFGHZR FBZRGVZRF JBEA OL FPBGPUZRA VA NZREVPN NAQ NZREVPNAF VA FPBGYNAQ\n",
      "YWZHS O QCGHIAS GCASHWASG KCFB PM GQCHQVASB WB OASFWQO OBR OASFWQOBG WB GQCHZOBR\n"
     ]
    }
   ],
   "source": [
    "bruteForce(a2)"
   ]
  },
  {
   "cell_type": "code",
   "execution_count": null,
   "metadata": {
    "collapsed": true
   },
   "outputs": [],
   "source": []
  }
 ],
 "metadata": {
  "kernelspec": {
   "display_name": "Python 3",
   "language": "python",
   "name": "python3"
  },
  "language_info": {
   "codemirror_mode": {
    "name": "ipython",
    "version": 3
   },
   "file_extension": ".py",
   "mimetype": "text/x-python",
   "name": "python",
   "nbconvert_exporter": "python",
   "pygments_lexer": "ipython3",
   "version": "3.6.7"
  }
 },
 "nbformat": 4,
 "nbformat_minor": 2
}
